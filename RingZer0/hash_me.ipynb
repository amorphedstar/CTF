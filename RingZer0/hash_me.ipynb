{
 "cells": [
  {
   "cell_type": "code",
   "execution_count": null,
   "metadata": {},
   "outputs": [],
   "source": [
    "# Hash me please\n",
    "import hashlib\n",
    "import requests\n",
    "r = requests.get(\"http://challenges.ringzer0team.com:10013/\")\n",
    "s = str(r.content)\n",
    "s = s[s.index('BEGIN MESSAGE')+35:s.index('END MESSAGE')-22]\n",
    "es = s.encode('UTF-8')\n",
    "hash = hashlib.sha512(es).hexdigest()\n",
    "r2 = requests.post(\"http://challenges.ringzer0team.com:10013/?r=\"+hash)\n",
    "flag = str(r2.content)[str(r2.content).index(\"FLAG-\"):]\n",
    "flag = flag[:flag.index(\"</div>\")]\n",
    "print(flag)"
   ]
  },
  {
   "cell_type": "code",
   "execution_count": 35,
   "metadata": {},
   "outputs": [],
   "source": [
    "# Hash me reloaded\n",
    "import hashlib\n",
    "import requests\n",
    "r = requests.get(\"http://challenges.ringzer0team.com:10014/\")\n",
    "s = str(r.content)\n",
    "s = s[s.index('BEGIN MESSAGE')+35:s.index('END MESSAGE')-22]\n",
    "s = [s[8*i:8*i+8] for i in range(len(s)//8)]\n",
    "s = ''.join(chr(int(i,2)) for i in s)\n",
    "es = s.encode('UTF-8')\n",
    "hash = hashlib.sha512(es).hexdigest()\n",
    "r2 = requests.post(\"http://challenges.ringzer0team.com:10014/?r=\"+hash)\n",
    "flag = str(r2.content)[str(r2.content).index(\"FLAG-\"):]\n",
    "flag = flag[:flag.index(\"</div>\")]\n",
    "print(flag)"
   ]
  },
  {
   "cell_type": "code",
   "execution_count": 36,
   "metadata": {},
   "outputs": [],
   "source": [
    "# I hate mathematics\n",
    "import hashlib\n",
    "import requests\n",
    "r = requests.get(\"http://challenges.ringzer0team.com:10032/\")\n",
    "s = str(r.content)\n",
    "s = s[s.index('BEGIN MESSAGE')+35:s.index('END MESSAGE')-22]\n",
    "b10,_,b16,_,b2,_,_ = s.split()\n",
    "ans = str(int(b10) + int(b16, 16) - int(b2, 2))\n",
    "r2 = requests.post(\"http://challenges.ringzer0team.com:10032/?r=\"+ans)\n",
    "flag = str(r2.content)[str(r2.content).index(\"FLAG-\"):]\n",
    "flag = flag[:flag.index(\"</div>\")]\n",
    "print(flag)"
   ]
  },
  {
   "cell_type": "code",
   "execution_count": 37,
   "metadata": {},
   "outputs": [],
   "source": [
    "# Hash breaker\n",
    "import hashlib\n",
    "import requests\n",
    "dict = {}\n",
    "for i in range(10000):\n",
    "    dict[hashlib.sha1(str(i).encode('UTF-8')).hexdigest()] = i\n",
    "r = requests.get(\"http://challenges.ringzer0team.com:10056/\")\n",
    "s = str(r.content)\n",
    "s = s[s.index('BEGIN HASH')+32:s.index('END HASH')-22]\n",
    "ans = str(dict[s])\n",
    "r2 = requests.post(\"http://challenges.ringzer0team.com:10056/?r=\"+ans)\n",
    "flag = str(r2.content)[str(r2.content).index(\"FLAG-\"):]\n",
    "flag = flag[:flag.index(\"</div>\")]\n",
    "print(flag)"
   ]
  },
  {
   "cell_type": "code",
   "execution_count": 41,
   "metadata": {},
   "outputs": [],
   "source": [
    "# Hash breaker reloaded\n",
    "import hashlib\n",
    "import requests\n",
    "dict = {}\n",
    "r = requests.get(\"http://challenges.ringzer0team.com:10057/\")\n",
    "s = str(r.content)\n",
    "salt = s[s.index('BEGIN SALT')+32:s.index('END SALT')-22]\n",
    "s = s[s.index('BEGIN HASH')+32:s.index('END HASH')-22]\n",
    "for i in range(10000):\n",
    "    dict[hashlib.sha1((str(i)+salt).encode('UTF-8')).hexdigest()] = i\n",
    "ans = str(dict[s])\n",
    "r2 = requests.post(\"http://challenges.ringzer0team.com:10057/?r=\"+ans)\n",
    "flag = str(r2.content)[str(r2.content).index(\"FLAG-\"):]\n",
    "flag = flag[:flag.index(\"</div>\")]\n",
    "print(flag)"
   ]
  },
  {
   "cell_type": "code",
   "execution_count": 53,
   "metadata": {},
   "outputs": [],
   "source": [
    "# Find the right word\n",
    "from collections import defaultdict\n",
    "st = set()\n",
    "d = defaultdict(list)\n",
    "with open('./words.txt') as f:\n",
    "    for word in f:\n",
    "        s = word.rstrip()\n",
    "        st.add(s)\n",
    "        d[tuple(sorted(s))].append(s)\n",
    "import hashlib\n",
    "import requests\n",
    "r = requests.get(\"http://challenges.ringzer0team.com:10126/\")\n",
    "s = str(r.content)\n",
    "s = s[s.index('BEGIN WORDS')+33:s.index('END WORDS')-22]\n",
    "ws = s.split(',')\n",
    "for i in range(len(ws)):\n",
    "    w = ws[i]\n",
    "    if w not in st:\n",
    "        ws[i] = d[tuple(sorted(w))][0]\n",
    "r2 = requests.post(\"http://challenges.ringzer0team.com:10126/?r=\"+','.join(ws))\n",
    "flag = str(r2.content)[str(r2.content).index(\"FLAG-\"):]\n",
    "flag = flag[:flag.index(\"</div>\")]\n",
    "print(flag)"
   ]
  },
  {
   "cell_type": "code",
   "execution_count": 17,
   "metadata": {},
   "outputs": [
    {
     "name": "stdout",
     "output_type": "stream",
     "text": [
      "bytearray(b'\\xebM^f\\x83\\xec\\x0cH\\x89\\xe0H1\\xc9h\\x10\\xc1m\\xf0H\\x89\\xcf\\x80\\xc1\\x0c@\\x8a>@\\xf6\\xd7@\\x888H\\xff\\xc6h>^\\xb1\\xcbH\\xff\\xc0\\xe2\\xea,\\x0cH\\x89\\xc6h\\xd9\\xb1|\\rH1\\xc0H\\x89\\xc7\\x04\\x01H\\x89\\xc2\\x80\\xc2\\x0b\\x0f\\x05H1\\xc0\\x04<\\x0f\\x05\\xe8\\xae\\xff\\xff\\xff\\xb6\\x9e\\xb2\\xaa\\xcc\\xaf\\x8f\\x95\\xab\\x93\\x98\\x89\\xdc~D\\x01o}\\xech\\xc3\\xc3[\\x89[RANDSTR2]')\n",
      "./exe: line 1: \u000f\u0005��������̯�������~D\u0001o}�h��[�[RANDSTR2]: No such file or directory\n",
      "./exe: line 1: @��@�8H��h: Illegal byte sequence\n"
     ]
    }
   ],
   "source": [
    "# Execute me if you can\n",
    "import os\n",
    "import requests\n",
    "str_pre = '''char shellcode[] = \"'''\n",
    "str_main = '''\";\n",
    "int main(int argc, char **argv) {\n",
    "\tint *ret;\n",
    "\tret = (int *)&ret + 3;\n",
    "\t(*ret) = (int)shellcode;\n",
    "}\n",
    "'''\n",
    "\n",
    "'''\";\n",
    "int main(int argc, char **argv){\n",
    "        void (*fp) (void);\n",
    "        fp = (void *)shellcode;\n",
    "        fp();\n",
    "}\n",
    "'''\n",
    "r = requests.get(\"http://challenges.ringzer0team.com:10121/\")\n",
    "s = str(r.content)\n",
    "s = s[s.index('BEGIN SHELLCODE')+37:s.index('END SHELLCODE')-24].replace('\\\\\\\\','\\\\')\n",
    "print(eval(\"bytearray(b'\"+s+\"')\"))\n",
    "f = open(\"exe\", \"wb\")\n",
    "f.write(eval(\"bytearray(b'\"+s+\"')\"))\n",
    "f.close()\n",
    "!chmod u+x exe\n",
    "!./exe\n",
    "\n",
    "f = open(\"shell.c\", \"w\")\n",
    "f.write(str_pre + s + str_main)\n",
    "f.close()\n",
    "# os.system(\"gcc -m32 -z execstack shell.c -o shell\")\n",
    "# os.system(\"./shell\")\n",
    "# !gcc -m32 -z execstack shell.c -o shell\n",
    "# !./shell\n",
    "# r2 = requests.post(\"http://challenges.ringzer0team.com:10121/?r=\")\n",
    "# flag = str(r2.content)[str(r2.content).index(\"FLAG-\"):]\n",
    "# flag = flag[:flag.index(\"</div>\")]\n",
    "# print(flag)"
   ]
  },
  {
   "cell_type": "code",
   "execution_count": 62,
   "metadata": {},
   "outputs": [
    {
     "name": "stdout",
     "output_type": "stream",
     "text": [
      "FLAG-vp352o6i4HGe3vo28CzRRQ9PAy\n"
     ]
    }
   ],
   "source": [
    "flag = str(r2.content)[str(r2.content).index(\"FLAG-\"):]\n",
    "flag = flag[:flag.index(\"</div>\")]\n",
    "print(flag)"
   ]
  },
  {
   "cell_type": "code",
   "execution_count": 1,
   "metadata": {},
   "outputs": [],
   "source": [
    "# ABOUT FRED CLIFT:\n",
    "# reddit username: minektur\n",
    "# hobbies: [,,]\n",
    "# favorite soft-drink: \n",
    "# (former) favorite hot sauce: \n",
    "# names and occupation of 2 brothers-in-law: [,]\n",
    "# high-school mascot: \n",
    "\n",
    "\n",
    "# sibling: marty\n",
    "# wife: mary\n",
    "\n",
    "\n",
    "## openssl ciphers -v or -V, or s_client, or \n",
    "\n",
    "## qualys ssl labs"
   ]
  },
  {
   "cell_type": "code",
   "execution_count": 3,
   "metadata": {},
   "outputs": [
    {
     "name": "stdout",
     "output_type": "stream",
     "text": [
      "https://a.nel.cloudflare.com/report/v3?s=gYPumNT4d0IN2JNauvoxRTvKHBJlr%2Bjqia7pJ7APuzbpi83vYqT1NwB61KFuNepQ%2BjjAvFeXyLNnIelB%2B9ibh0AyMYyQQ3IAeMGMVolIyRQjXrn28hjMTuL7mspQXaxZ\n"
     ]
    }
   ],
   "source": [
    "print(\"https://a.nel.cloudflare.com/report/v3?s=gYPumNT4d0IN2JNauvoxRTvKHBJlr%2Bjqia7pJ7APuzbpi83vYqT1NwB61KFuNepQ%2BjjAvFeXyLNnIelB%2B9ibh0AyMYyQQ3IAeMGMVolIyRQjXrn28hjMTuL7mspQXaxZ\")"
   ]
  },
  {
   "cell_type": "code",
   "execution_count": 1,
   "metadata": {},
   "outputs": [
    {
     "name": "stdout",
     "output_type": "stream",
     "text": [
      "ok\n"
     ]
    }
   ],
   "source": [
    "print('ok')"
   ]
  }
 ],
 "metadata": {
  "interpreter": {
   "hash": "b0fa6594d8f4cbf19f97940f81e996739fb7646882a419484c72d19e05852a7e"
  },
  "kernelspec": {
   "display_name": "Python 3.9.13 64-bit",
   "language": "python",
   "name": "python3"
  },
  "language_info": {
   "codemirror_mode": {
    "name": "ipython",
    "version": 3
   },
   "file_extension": ".py",
   "mimetype": "text/x-python",
   "name": "python",
   "nbconvert_exporter": "python",
   "pygments_lexer": "ipython3",
   "version": "3.10.8"
  },
  "orig_nbformat": 4
 },
 "nbformat": 4,
 "nbformat_minor": 2
}
