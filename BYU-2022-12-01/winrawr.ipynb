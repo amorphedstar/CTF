{
 "cells": [
  {
   "cell_type": "code",
   "execution_count": 4,
   "metadata": {},
   "outputs": [
    {
     "name": "stdout",
     "output_type": "stream",
     "text": [
      "Requirement already satisfied: wikipedia in /opt/homebrew/lib/python3.10/site-packages (1.4.0)\n",
      "Requirement already satisfied: requests<3.0.0,>=2.0.0 in /opt/homebrew/lib/python3.10/site-packages (from wikipedia) (2.28.1)\n",
      "Requirement already satisfied: beautifulsoup4 in /opt/homebrew/lib/python3.10/site-packages (from wikipedia) (4.11.1)\n",
      "Requirement already satisfied: urllib3<1.27,>=1.21.1 in /opt/homebrew/lib/python3.10/site-packages (from requests<3.0.0,>=2.0.0->wikipedia) (1.26.12)\n",
      "Requirement already satisfied: idna<4,>=2.5 in /opt/homebrew/lib/python3.10/site-packages (from requests<3.0.0,>=2.0.0->wikipedia) (3.4)\n",
      "Requirement already satisfied: certifi>=2017.4.17 in /opt/homebrew/lib/python3.10/site-packages (from requests<3.0.0,>=2.0.0->wikipedia) (2022.9.14)\n",
      "Requirement already satisfied: charset-normalizer<3,>=2 in /opt/homebrew/lib/python3.10/site-packages (from requests<3.0.0,>=2.0.0->wikipedia) (2.1.1)\n",
      "Requirement already satisfied: soupsieve>1.2 in /opt/homebrew/lib/python3.10/site-packages (from beautifulsoup4->wikipedia) (2.3.2.post1)\n"
     ]
    }
   ],
   "source": [
    "!pip install wikipedia\n",
    "import wikipedia\n",
    "wiki = wikipedia.page('Dinosaurs')\n",
    "text = wiki.content"
   ]
  },
  {
   "cell_type": "code",
   "execution_count": 8,
   "metadata": {},
   "outputs": [
    {
     "data": {
      "text/plain": [
       "4070"
      ]
     },
     "execution_count": 8,
     "metadata": {},
     "output_type": "execute_result"
    }
   ],
   "source": [
    "len(set(text.split()))"
   ]
  },
  {
   "cell_type": "code",
   "execution_count": 5,
   "metadata": {},
   "outputs": [],
   "source": [
    "text.split()\n",
    "with open('dino_words.txt', 'w') as file:\n",
    "  file.write('\\n'.join(set(text.split())))\n"
   ]
  },
  {
   "cell_type": "code",
   "execution_count": 2,
   "metadata": {},
   "outputs": [
    {
     "name": "stdout",
     "output_type": "stream",
     "text": [
      "Requirement already satisfied: unrar in /opt/homebrew/lib/python3.10/site-packages (0.4)\n",
      "\u001b[31mERROR: Could not find a version that satisfies the requirement unrarlib (from versions: none)\u001b[0m\u001b[31m\n",
      "\u001b[0m\u001b[31mERROR: No matching distribution found for unrarlib\u001b[0m\u001b[31m\n",
      "\u001b[0m"
     ]
    },
    {
     "ename": "LookupError",
     "evalue": "Couldn't find path to unrar library.",
     "output_type": "error",
     "traceback": [
      "\u001b[0;31m---------------------------------------------------------------------------\u001b[0m",
      "\u001b[0;31mLookupError\u001b[0m                               Traceback (most recent call last)",
      "Cell \u001b[0;32mIn [2], line 2\u001b[0m\n\u001b[1;32m      1\u001b[0m get_ipython()\u001b[38;5;241m.\u001b[39msystem(\u001b[38;5;124m'\u001b[39m\u001b[38;5;124mpip install unrar unrarlib\u001b[39m\u001b[38;5;124m'\u001b[39m)\n\u001b[0;32m----> 2\u001b[0m \u001b[38;5;28;01mfrom\u001b[39;00m \u001b[38;5;21;01munrar\u001b[39;00m \u001b[38;5;28;01mimport\u001b[39;00m rarfile\n",
      "File \u001b[0;32m/opt/homebrew/lib/python3.10/site-packages/unrar/rarfile.py:26\u001b[0m\n\u001b[1;32m     <a href='file:///opt/homebrew/lib/python3.10/site-packages/unrar/rarfile.py?line=22'>23</a>\u001b[0m \u001b[39mimport\u001b[39;00m \u001b[39msys\u001b[39;00m\n\u001b[1;32m     <a href='file:///opt/homebrew/lib/python3.10/site-packages/unrar/rarfile.py?line=24'>25</a>\u001b[0m \u001b[39mfrom\u001b[39;00m \u001b[39munrar\u001b[39;00m \u001b[39mimport\u001b[39;00m constants\n\u001b[0;32m---> <a href='file:///opt/homebrew/lib/python3.10/site-packages/unrar/rarfile.py?line=25'>26</a>\u001b[0m \u001b[39mfrom\u001b[39;00m \u001b[39munrar\u001b[39;00m \u001b[39mimport\u001b[39;00m unrarlib\n\u001b[1;32m     <a href='file:///opt/homebrew/lib/python3.10/site-packages/unrar/rarfile.py?line=28'>29</a>\u001b[0m __all__ \u001b[39m=\u001b[39m [\u001b[39m\"\u001b[39m\u001b[39mBadRarFile\u001b[39m\u001b[39m\"\u001b[39m, \u001b[39m\"\u001b[39m\u001b[39mis_rarfile\u001b[39m\u001b[39m\"\u001b[39m, \u001b[39m\"\u001b[39m\u001b[39mRarFile\u001b[39m\u001b[39m\"\u001b[39m, \u001b[39m\"\u001b[39m\u001b[39mRarInfo\u001b[39m\u001b[39m\"\u001b[39m]\n\u001b[1;32m     <a href='file:///opt/homebrew/lib/python3.10/site-packages/unrar/rarfile.py?line=31'>32</a>\u001b[0m \u001b[39mif\u001b[39;00m sys\u001b[39m.\u001b[39mversion \u001b[39m<\u001b[39m \u001b[39m'\u001b[39m\u001b[39m3\u001b[39m\u001b[39m'\u001b[39m:\n",
      "File \u001b[0;32m/opt/homebrew/lib/python3.10/site-packages/unrar/unrarlib.py:57\u001b[0m\n\u001b[1;32m     <a href='file:///opt/homebrew/lib/python3.10/site-packages/unrar/unrarlib.py?line=53'>54</a>\u001b[0m         unrarlib \u001b[39m=\u001b[39m ctypes\u001b[39m.\u001b[39mcdll\u001b[39m.\u001b[39mLoadLibrary(lib_path)\n\u001b[1;32m     <a href='file:///opt/homebrew/lib/python3.10/site-packages/unrar/unrarlib.py?line=55'>56</a>\u001b[0m \u001b[39mif\u001b[39;00m unrarlib \u001b[39mis\u001b[39;00m \u001b[39mNone\u001b[39;00m:\n\u001b[0;32m---> <a href='file:///opt/homebrew/lib/python3.10/site-packages/unrar/unrarlib.py?line=56'>57</a>\u001b[0m     \u001b[39mraise\u001b[39;00m \u001b[39mLookupError\u001b[39;00m(\u001b[39m\"\u001b[39m\u001b[39mCouldn\u001b[39m\u001b[39m'\u001b[39m\u001b[39mt find path to unrar library.\u001b[39m\u001b[39m\"\u001b[39m)\n\u001b[1;32m     <a href='file:///opt/homebrew/lib/python3.10/site-packages/unrar/unrarlib.py?line=59'>60</a>\u001b[0m \u001b[39mdef\u001b[39;00m \u001b[39mdostime_to_timetuple\u001b[39m(dostime):\n\u001b[1;32m     <a href='file:///opt/homebrew/lib/python3.10/site-packages/unrar/unrarlib.py?line=60'>61</a>\u001b[0m     \u001b[39m\"\"\"Convert a RAR archive member DOS time to a Python time tuple.\"\"\"\u001b[39;00m\n",
      "\u001b[0;31mLookupError\u001b[0m: Couldn't find path to unrar library."
     ]
    }
   ],
   "source": [
    "!pip install unrar unrarlib\n",
    "from unrar import rarfile"
   ]
  },
  {
   "cell_type": "code",
   "execution_count": null,
   "metadata": {},
   "outputs": [
    {
     "ename": "AttributeError",
     "evalue": "module 'unrar' has no attribute 'RarFile'",
     "output_type": "error",
     "traceback": [
      "\u001b[0;31m---------------------------------------------------------------------------\u001b[0m",
      "\u001b[0;31mAttributeError\u001b[0m                            Traceback (most recent call last)",
      "Cell \u001b[0;32mIn [6], line 1\u001b[0m\n\u001b[0;32m----> 1\u001b[0m rar \u001b[38;5;241m=\u001b[39m \u001b[43munrar\u001b[49m\u001b[38;5;241;43m.\u001b[39;49m\u001b[43mRarFile\u001b[49m(\u001b[38;5;124m'\u001b[39m\u001b[38;5;124m/users/t/Downloads/winrawr.rar\u001b[39m\u001b[38;5;124m'\u001b[39m)\n\u001b[1;32m      2\u001b[0m \u001b[38;5;28;01mfor\u001b[39;00m pwd \u001b[38;5;129;01min\u001b[39;00m \u001b[38;5;124m'\u001b[39m\u001b[38;5;124m/users/t/Downloads/wordlist.txt\u001b[39m\u001b[38;5;124m'\u001b[39m:\n\u001b[1;32m      3\u001b[0m   \u001b[38;5;28;01mtry\u001b[39;00m:\n",
      "\u001b[0;31mAttributeError\u001b[0m: module 'unrar' has no attribute 'RarFile'"
     ]
    }
   ],
   "source": [
    "rar = rarfile.RarFile('/users/t/Downloads/winrawr.rar')\n",
    "for pwd in '/users/t/Downloads/wordlist.txt':\n",
    "  try:\n",
    "    rar.extractall(pwd=pwd)\n",
    "    print(\"file extracted\")\n",
    "    print(\"the password is %s\" % pwd)\n",
    "    found = True\n",
    "    break\n",
    "  except rarfile.BadRarFile:\n",
    "    pass"
   ]
  },
  {
   "cell_type": "code",
   "execution_count": null,
   "metadata": {},
   "outputs": [],
   "source": []
  }
 ],
 "metadata": {
  "interpreter": {
   "hash": "b0fa6594d8f4cbf19f97940f81e996739fb7646882a419484c72d19e05852a7e"
  },
  "kernelspec": {
   "display_name": "Python 3.10.8 64-bit",
   "language": "python",
   "name": "python3"
  },
  "language_info": {
   "codemirror_mode": {
    "name": "ipython",
    "version": 3
   },
   "file_extension": ".py",
   "mimetype": "text/x-python",
   "name": "python",
   "nbconvert_exporter": "python",
   "pygments_lexer": "ipython3",
   "version": "3.10.8"
  },
  "orig_nbformat": 4
 },
 "nbformat": 4,
 "nbformat_minor": 2
}
