{
 "cells": [
  {
   "cell_type": "code",
   "execution_count": 9,
   "metadata": {},
   "outputs": [],
   "source": [
    "with open('e.c', 'r') as file:\n",
    "  arr = file.read().split('\\n')\n",
    "defs = [(ln[1],ln[2:]) for ln in map(lambda x:x.split(), arr[:64])]\n",
    "\n"
   ]
  },
  {
   "cell_type": "code",
   "execution_count": 10,
   "metadata": {},
   "outputs": [
    {
     "data": {
      "text/plain": [
       "[('eeeeeeeeeeeeeeeeeeeeeeeeeeeeeeeeeeeeeeeeeee', [\"'f'\"]),\n",
       " ('eeeeeeeeeeeeeeeeeeeeeeeeeeeeeeeeeeeeeeeeeeeeeeeeeeeeee', [\"'c'\"]),\n",
       " ('eeeeeeeeeeeeeeeeeeeeeeeeeeeeeeeeeeeeeeee', [\"'g'\"]),\n",
       " ('eeee', ['&&']),\n",
       " ('eeeeeeeeeeeeeeeeeeeeeeeeeeeeeeeeeeeeeeeeeeeeeeeeeeeeeeeeeeeeee', ['13']),\n",
       " ('eeeeeeeeeeeeeeeeeeeeeeeeee', ['10']),\n",
       " ('eeeeeeeeeeeeeeeeeeeeeee', ['19']),\n",
       " ('eeeeeeeeeeeeeeeeeeeeeeeeeeeeeeeeeeeeeeeeeeeeeeee', ['scanf']),\n",
       " ('eeeeeeeeeeeeeeeeeeeeeeeeeeeeeeeeeeeeeeeeeeeeeeeeeeeeeeee', [\"'5'\"]),\n",
       " ('eeeeeeeeeeeeeeeeeeeeeeeee', [\"'\\\\0'\"]),\n",
       " ('eee', ['int']),\n",
       " ('eeeeeeeeeeeeeeeeeeeeeeeeeeeeeeeeeeee', ['printf']),\n",
       " ('eeeeeeeeeeeeeeeeeeeeeeeeeeeeeeeeeeeeeeeeeeeeeeeee', ['6']),\n",
       " ('eeeeeeeeeeeee', [\"'9'\"]),\n",
       " ('eeeeeeeeeeeeeeeee', [';']),\n",
       " ('eeeeeeee', [\"'2'\"]),\n",
       " ('eeeeeeeeeeee', ['4']),\n",
       " ('eeeeeeeeeeeeeeeeeeeeeeeeeeeeeeeeeeeeee', ['eeeeeeeeeeeeeeeeeeeeeeee']),\n",
       " ('eeeeeeeeeeeeeeeeeeee', ['eeeeeeeeeeeee']),\n",
       " ('eeeeeeeeeeeeeeeeeeeeeeeeeeeeeeeeeeeeeeeeeeee', ['=']),\n",
       " ('eeeeeeeeeeeeeeee', ['8']),\n",
       " ('eeeeeeeeeeeeeeeeeeeeeeeeeeeeeeeeee', ['18']),\n",
       " ('ee', ['e']),\n",
       " ('eeeeeeeeeeeeeee', [\"'l'\"]),\n",
       " ('eeeeeeeeeeeeeeeeeeeeeeeeeeeeeeeeeeeeeeeeeeeeeeeeeeeeeeeee', ['12']),\n",
       " ('eeeeeeeeeeeeeeeeeeeeeeeeeeeeeeeeeeeeeeeeeeeeeeeeeeeeeeeeeeee', [\"'4'\"]),\n",
       " ('eeeeeee', [\"'g'\"]),\n",
       " ('eeeeeeeeeeeeeeeeeeeeeeeeeeeeeeeeeeeeeeeeeeeeeeeeeeeeeeeeeee', ['16']),\n",
       " ('eeeeeeeeeeeeeeeeeeeeeeeeeeeeeeeeeeeeeeeeeeeee', [\"'}'\"]),\n",
       " ('eeeeeeeeeeeeeeeeeee', ['main()']),\n",
       " ('eeeeeeeeeeeeeeeeeeeeeeeeeeeeeeeeeeeeeeeeeeeeeeeeeeeeeeeeeeeee', ['9']),\n",
       " ('eeeeeeeeeeeeeeeeeeeeeeee', ['flag']),\n",
       " ('eeeeee', [\"'a'\"]),\n",
       " ('eeeeeeeeeeeeeeeeeeeeeeeeeeeeeeeeeeeeeeeeeeeeeeeeeeeeeeeeee', ['17']),\n",
       " ('eeeeeeeee', ['eeee']),\n",
       " ('eeeeeeeeeeeeeeeeeeeeeeeeeeeeeeeeeeeee', ['{']),\n",
       " ('eeeeeeeeeee', ['1']),\n",
       " ('eeeeeeeeeeeeeeeeeeeeeeeeeeeeeeeeeeeeeeeeeeeeeee', [\"'8'\"]),\n",
       " ('eeeeeeeeeeeeeeeeee', ['2']),\n",
       " ('eeeeeeeeeeeeeeeeeeeeeeeeeeeeeee', ['7']),\n",
       " ('eeeeeeeeeeeeeeeeeeeeeeeeeeeeeeeeeeeeeeeeeeeeeeeeeeee', ['\"%20s\"']),\n",
       " ('eeeeeeeeeeeeeeeeeeeeeeeeeeeeeeeeeeeeeeeeee', ['11']),\n",
       " ('eeeeeeeeeeeeeeeeeeeeeeeeeee', ['}']),\n",
       " ('eeeeeeeeeeeeeeeeeeeee', ['return']),\n",
       " ('eeeeeeeeeeeeeeeeeeeeeeeeeeee', [\"'?'\"]),\n",
       " ('eeeeeeeeeeeeeeeeeeeeeeeeeeeeeeeeeeeeeeeeeeeeeeeeeeeeeee', ['20']),\n",
       " ('eeeeeeeeeeeeeeeeeeeeeeeeeeeeeeeeeeeeeeeee', [\"'\", \"'\"]),\n",
       " ('eeeeeeeeeeeeeeeeeeeeeeeeeeeeeeeeeeeeeeeeeeeeeeeeeeeeeeeeeeeeeee', ['5']),\n",
       " ('eeeeeeeeeeeeeeeeeeeeeeeeeeeeee', ['0x20']),\n",
       " ('eeeeeeeeeeeeeeeeeeeeeeeeeeeeeeeeeeeeeeeeeeeeeeeeeee', [\"'7'\"]),\n",
       " ('eeeeeeeeeeeeeeeeeeeeeeeeeeeeeeee', ['\"Correct!\\\\n\"']),\n",
       " ('eeeeeeeeeeeeeeeeeeeeeeeeeeeee', ['char']),\n",
       " ('eeeeeeeeee', ['0']),\n",
       " ('eeeeeeeeeeeeeeeeeeeeeeeeeeeeeeeeeeeeeeeeeeeeeeeeeeeeeeeeeeeeeeeee', ['15']),\n",
       " ('eeeeeeeeeeeeeeeeeeeeeeeeeeeeeeeeeeeeeee', ['else']),\n",
       " ('eeeeeeeeeeeeeeeeeeeeeeeeeeeeeeeeeeeeeeeeeeeeeeeeeeeeeeeeeeeeeeee', ['14']),\n",
       " ('eeeeeeeeeeeeeeeeeeeeee', [\"'{'\"]),\n",
       " ('eeeeeeeeeeeeeeeeeeeeeeeeeeeeeeeeeeeeeeeeeeeeeeeeeeeee', ['if']),\n",
       " ('eeeeeeeeeeeeee', [',']),\n",
       " ('eeeeeeeeeeeeeeeeeeeeeeeeeeeeeeeeeee', [\"'b'\"]),\n",
       " ('eeeeeeeeeeeeeeeeeeeeeeeeeeeeeeeee', ['\"Incorrect!\\\\n\"']),\n",
       " ('eeeee', ['==']),\n",
       " ('eeeeeeeeeeeeeeeeeeeeeeeeeeeeeeeeeeeeeeeeeeeeeeeeee', [\"'0'\"]),\n",
       " ('eeeeeeeeeeeeeeeeeeeeeeeeeeeeeeeeeeeeeeeeeeeeee', ['3'])]"
      ]
     },
     "execution_count": 10,
     "metadata": {},
     "output_type": "execute_result"
    }
   ],
   "source": [
    "defs"
   ]
  },
  {
   "cell_type": "code",
   "execution_count": 13,
   "metadata": {},
   "outputs": [
    {
     "data": {
      "text/plain": [
       "'int main() { char e[0x20] ; char flag[7] = { \\'f\\' , \\'l\\' , \\'a\\' , \\'g\\' , \\'?\\' , \\' \\' , \\'\\\\0\\' } ; printf (flag) ; scanf (\"%20s\" , e) ; if (e[4] == \\'{\\' && e[10] == \\'7\\' && e[0] == \\'f\\' && e[18] == \\'2\\' && e[17] == \\'5\\' && e[1] == \\'l\\' && e[2] == \\'a\\' && e[8] == \\'0\\' && e[19] == \\'}\\' && e[13] == \\'2\\' && e[6] == \\'8\\' && e[5] == \\'b\\' && e[9] == \\'c\\' && e[11] == \\'9\\' && e[15] == \\'4\\' && e[20] == \\'\\\\0\\' && e[12] == \\'7\\' && e[3] == \\'g\\' && e[16] == \\'9\\' && e[14] == \\'9\\' && e[7] == \\'8\\') { printf (\"Correct!\\\\n\") ; } else { printf (\"Incorrect!\\\\n\") ; } return 0 ; }'"
      ]
     },
     "execution_count": 13,
     "metadata": {},
     "output_type": "execute_result"
    }
   ],
   "source": [
    "s = arr[-1]\n",
    "for v1,v2 in sorted(defs)[::-1]:\n",
    "  s = s.replace(v1,' '.join(v2))\n",
    "s"
   ]
  },
  {
   "cell_type": "code",
   "execution_count": 15,
   "metadata": {},
   "outputs": [
    {
     "data": {
      "text/plain": [
       "[\"== 'f' && \",\n",
       " \"== 'l' && \",\n",
       " \"== 'a' && \",\n",
       " \"== 'g' && \",\n",
       " \"== '{' && \",\n",
       " \"== 'b' && \",\n",
       " \"== '8' && \",\n",
       " \"== '8') { \",\n",
       " \"== '0' && \",\n",
       " \"== 'c' && \",\n",
       " \" == '7' &&\",\n",
       " \" == '9' &&\",\n",
       " \" == '7' &&\",\n",
       " \" == '2' &&\",\n",
       " \" == '9' &&\",\n",
       " \" == '4' &&\",\n",
       " \" == '9' &&\",\n",
       " \" == '5' &&\",\n",
       " \" == '2' &&\",\n",
       " \" == '}' &&\"]"
      ]
     },
     "execution_count": 15,
     "metadata": {},
     "output_type": "execute_result"
    }
   ],
   "source": [
    "[s[s.index(f'e[{n}]')+5:s.index(f'e[{n}]')+15] for n in range(20)]"
   ]
  },
  {
   "cell_type": "code",
   "execution_count": null,
   "metadata": {},
   "outputs": [],
   "source": [
    "flag{b880c797294952}"
   ]
  }
 ],
 "metadata": {
  "interpreter": {
   "hash": "b0fa6594d8f4cbf19f97940f81e996739fb7646882a419484c72d19e05852a7e"
  },
  "kernelspec": {
   "display_name": "Python 3.10.8 64-bit",
   "language": "python",
   "name": "python3"
  },
  "language_info": {
   "codemirror_mode": {
    "name": "ipython",
    "version": 3
   },
   "file_extension": ".py",
   "mimetype": "text/x-python",
   "name": "python",
   "nbconvert_exporter": "python",
   "pygments_lexer": "ipython3",
   "version": "3.10.8"
  },
  "orig_nbformat": 4
 },
 "nbformat": 4,
 "nbformat_minor": 2
}
